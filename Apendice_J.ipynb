{
 "cells": [
  {
   "cell_type": "markdown",
   "metadata": {},
   "source": [
    "### Evaluacion y Validacion del Modelo con datos de 2018"
   ]
  },
  {
   "cell_type": "code",
   "execution_count": 1,
   "metadata": {},
   "outputs": [],
   "source": [
    "# Imports necesarios\n",
    "\n",
    "%matplotlib inline\n",
    "import numpy as np\n",
    "import pandas as pd\n",
    "import matplotlib.pyplot as plt \n",
    "import statsmodels.api as sm\n",
    "import seaborn as sns\n",
    "\n",
    "from patsy import dmatrices\n",
    "from scipy import stats\n",
    "from sklearn import metrics\n",
    "from sklearn.linear_model import LogisticRegression\n",
    "from sklearn.model_selection import train_test_split\n",
    "from sklearn.metrics import mean_squared_error, r2_score\n",
    "from matplotlib import pyplot as plt\n",
    "from sklearn.linear_model import LinearRegression\n",
    "from sklearn.metrics import mean_squared_error\n"
   ]
  },
  {
   "cell_type": "code",
   "execution_count": 2,
   "metadata": {},
   "outputs": [],
   "source": [
    "path_file = \"C:/Users/Grios/Desktop/pipe/Proyecto/Correcciones/Apendice_G.xlsx\"\n",
    "dta = pd.read_excel(path_file)\n",
    "df = pd.DataFrame(dta)\n",
    "\n",
    "path_file_2018 = \"C:/Users/Grios/Desktop/pipe/Proyecto/Correcciones/Apendice_I.xlsx\"\n",
    "dta_2018 = pd.read_excel(path_file_2018)\n",
    "df_2018 = pd.DataFrame(dta_2018)"
   ]
  },
  {
   "cell_type": "code",
   "execution_count": 3,
   "metadata": {},
   "outputs": [
    {
     "data": {
      "text/html": [
       "<div>\n",
       "<style scoped>\n",
       "    .dataframe tbody tr th:only-of-type {\n",
       "        vertical-align: middle;\n",
       "    }\n",
       "\n",
       "    .dataframe tbody tr th {\n",
       "        vertical-align: top;\n",
       "    }\n",
       "\n",
       "    .dataframe thead th {\n",
       "        text-align: right;\n",
       "    }\n",
       "</style>\n",
       "<table border=\"1\" class=\"dataframe\">\n",
       "  <thead>\n",
       "    <tr style=\"text-align: right;\">\n",
       "      <th></th>\n",
       "      <th>ARRIENDO</th>\n",
       "      <th>SERVINT</th>\n",
       "      <th>TRANSP</th>\n",
       "      <th>TOTPERSO</th>\n",
       "      <th>CTO</th>\n",
       "      <th>VENTA</th>\n",
       "    </tr>\n",
       "  </thead>\n",
       "  <tbody>\n",
       "    <tr>\n",
       "      <th>0</th>\n",
       "      <td>0.006629</td>\n",
       "      <td>0.005813</td>\n",
       "      <td>0.008565</td>\n",
       "      <td>0.001605</td>\n",
       "      <td>0.016319</td>\n",
       "      <td>0.420915</td>\n",
       "    </tr>\n",
       "    <tr>\n",
       "      <th>1</th>\n",
       "      <td>0.000261</td>\n",
       "      <td>0.000262</td>\n",
       "      <td>0.001022</td>\n",
       "      <td>0.001783</td>\n",
       "      <td>0.003807</td>\n",
       "      <td>0.455799</td>\n",
       "    </tr>\n",
       "    <tr>\n",
       "      <th>2</th>\n",
       "      <td>0.006629</td>\n",
       "      <td>0.005813</td>\n",
       "      <td>0.008565</td>\n",
       "      <td>0.001783</td>\n",
       "      <td>0.016319</td>\n",
       "      <td>0.284335</td>\n",
       "    </tr>\n",
       "    <tr>\n",
       "      <th>3</th>\n",
       "      <td>0.000104</td>\n",
       "      <td>0.000285</td>\n",
       "      <td>0.000121</td>\n",
       "      <td>0.001783</td>\n",
       "      <td>0.003423</td>\n",
       "      <td>0.447846</td>\n",
       "    </tr>\n",
       "    <tr>\n",
       "      <th>4</th>\n",
       "      <td>0.006629</td>\n",
       "      <td>0.005813</td>\n",
       "      <td>0.008565</td>\n",
       "      <td>0.001961</td>\n",
       "      <td>0.016319</td>\n",
       "      <td>0.407667</td>\n",
       "    </tr>\n",
       "    <tr>\n",
       "      <th>...</th>\n",
       "      <td>...</td>\n",
       "      <td>...</td>\n",
       "      <td>...</td>\n",
       "      <td>...</td>\n",
       "      <td>...</td>\n",
       "      <td>...</td>\n",
       "    </tr>\n",
       "    <tr>\n",
       "      <th>3625</th>\n",
       "      <td>0.000127</td>\n",
       "      <td>0.000866</td>\n",
       "      <td>0.000221</td>\n",
       "      <td>0.001783</td>\n",
       "      <td>0.000763</td>\n",
       "      <td>0.322389</td>\n",
       "    </tr>\n",
       "    <tr>\n",
       "      <th>3626</th>\n",
       "      <td>0.000010</td>\n",
       "      <td>0.000954</td>\n",
       "      <td>0.001325</td>\n",
       "      <td>0.002496</td>\n",
       "      <td>0.002143</td>\n",
       "      <td>0.409969</td>\n",
       "    </tr>\n",
       "    <tr>\n",
       "      <th>3627</th>\n",
       "      <td>0.000121</td>\n",
       "      <td>0.000537</td>\n",
       "      <td>0.008565</td>\n",
       "      <td>0.001783</td>\n",
       "      <td>0.002049</td>\n",
       "      <td>0.395980</td>\n",
       "    </tr>\n",
       "    <tr>\n",
       "      <th>3628</th>\n",
       "      <td>0.006629</td>\n",
       "      <td>0.004568</td>\n",
       "      <td>0.002951</td>\n",
       "      <td>0.026391</td>\n",
       "      <td>0.012081</td>\n",
       "      <td>0.584510</td>\n",
       "    </tr>\n",
       "    <tr>\n",
       "      <th>3629</th>\n",
       "      <td>0.000241</td>\n",
       "      <td>0.000285</td>\n",
       "      <td>0.000086</td>\n",
       "      <td>0.001605</td>\n",
       "      <td>0.000999</td>\n",
       "      <td>0.326728</td>\n",
       "    </tr>\n",
       "  </tbody>\n",
       "</table>\n",
       "<p>3630 rows × 6 columns</p>\n",
       "</div>"
      ],
      "text/plain": [
       "      ARRIENDO   SERVINT    TRANSP  TOTPERSO       CTO     VENTA\n",
       "0     0.006629  0.005813  0.008565  0.001605  0.016319  0.420915\n",
       "1     0.000261  0.000262  0.001022  0.001783  0.003807  0.455799\n",
       "2     0.006629  0.005813  0.008565  0.001783  0.016319  0.284335\n",
       "3     0.000104  0.000285  0.000121  0.001783  0.003423  0.447846\n",
       "4     0.006629  0.005813  0.008565  0.001961  0.016319  0.407667\n",
       "...        ...       ...       ...       ...       ...       ...\n",
       "3625  0.000127  0.000866  0.000221  0.001783  0.000763  0.322389\n",
       "3626  0.000010  0.000954  0.001325  0.002496  0.002143  0.409969\n",
       "3627  0.000121  0.000537  0.008565  0.001783  0.002049  0.395980\n",
       "3628  0.006629  0.004568  0.002951  0.026391  0.012081  0.584510\n",
       "3629  0.000241  0.000285  0.000086  0.001605  0.000999  0.326728\n",
       "\n",
       "[3630 rows x 6 columns]"
      ]
     },
     "execution_count": 3,
     "metadata": {},
     "output_type": "execute_result"
    }
   ],
   "source": [
    "dta.drop(['PUBLICI','TOTAL_REM2','INVPRO','SERVEXT2'], axis=1, inplace=True)\n",
    "dta"
   ]
  },
  {
   "cell_type": "code",
   "execution_count": 4,
   "metadata": {},
   "outputs": [
    {
     "data": {
      "text/html": [
       "<div>\n",
       "<style scoped>\n",
       "    .dataframe tbody tr th:only-of-type {\n",
       "        vertical-align: middle;\n",
       "    }\n",
       "\n",
       "    .dataframe tbody tr th {\n",
       "        vertical-align: top;\n",
       "    }\n",
       "\n",
       "    .dataframe thead th {\n",
       "        text-align: right;\n",
       "    }\n",
       "</style>\n",
       "<table border=\"1\" class=\"dataframe\">\n",
       "  <thead>\n",
       "    <tr style=\"text-align: right;\">\n",
       "      <th></th>\n",
       "      <th>ARRIENDO</th>\n",
       "      <th>SERV_INT</th>\n",
       "      <th>TRANSP</th>\n",
       "      <th>TOT_PERSO</th>\n",
       "      <th>CTO</th>\n",
       "      <th>VENTA</th>\n",
       "    </tr>\n",
       "  </thead>\n",
       "  <tbody>\n",
       "    <tr>\n",
       "      <th>0</th>\n",
       "      <td>8.860651e-03</td>\n",
       "      <td>0.000189</td>\n",
       "      <td>0.000803</td>\n",
       "      <td>0.002342</td>\n",
       "      <td>0.006278</td>\n",
       "      <td>0.578937</td>\n",
       "    </tr>\n",
       "    <tr>\n",
       "      <th>1</th>\n",
       "      <td>7.954228e-04</td>\n",
       "      <td>0.000421</td>\n",
       "      <td>0.000015</td>\n",
       "      <td>0.002577</td>\n",
       "      <td>0.000545</td>\n",
       "      <td>0.313346</td>\n",
       "    </tr>\n",
       "    <tr>\n",
       "      <th>2</th>\n",
       "      <td>8.860651e-03</td>\n",
       "      <td>0.000004</td>\n",
       "      <td>0.000001</td>\n",
       "      <td>0.000000</td>\n",
       "      <td>0.000490</td>\n",
       "      <td>0.684215</td>\n",
       "    </tr>\n",
       "    <tr>\n",
       "      <th>3</th>\n",
       "      <td>1.312818e-06</td>\n",
       "      <td>0.000520</td>\n",
       "      <td>0.000211</td>\n",
       "      <td>0.003279</td>\n",
       "      <td>0.000887</td>\n",
       "      <td>0.707881</td>\n",
       "    </tr>\n",
       "    <tr>\n",
       "      <th>4</th>\n",
       "      <td>2.067429e-08</td>\n",
       "      <td>0.002335</td>\n",
       "      <td>0.000031</td>\n",
       "      <td>0.011712</td>\n",
       "      <td>0.026781</td>\n",
       "      <td>0.762080</td>\n",
       "    </tr>\n",
       "    <tr>\n",
       "      <th>...</th>\n",
       "      <td>...</td>\n",
       "      <td>...</td>\n",
       "      <td>...</td>\n",
       "      <td>...</td>\n",
       "      <td>...</td>\n",
       "      <td>...</td>\n",
       "    </tr>\n",
       "    <tr>\n",
       "      <th>803</th>\n",
       "      <td>2.002409e-04</td>\n",
       "      <td>0.000009</td>\n",
       "      <td>0.000547</td>\n",
       "      <td>0.004919</td>\n",
       "      <td>0.001568</td>\n",
       "      <td>0.643329</td>\n",
       "    </tr>\n",
       "    <tr>\n",
       "      <th>804</th>\n",
       "      <td>1.188772e-06</td>\n",
       "      <td>0.000965</td>\n",
       "      <td>0.000279</td>\n",
       "      <td>0.001640</td>\n",
       "      <td>0.000040</td>\n",
       "      <td>0.701141</td>\n",
       "    </tr>\n",
       "    <tr>\n",
       "      <th>805</th>\n",
       "      <td>3.214853e-06</td>\n",
       "      <td>0.000033</td>\n",
       "      <td>0.000233</td>\n",
       "      <td>0.002577</td>\n",
       "      <td>0.003258</td>\n",
       "      <td>0.778979</td>\n",
       "    </tr>\n",
       "    <tr>\n",
       "      <th>806</th>\n",
       "      <td>8.434182e-04</td>\n",
       "      <td>0.000088</td>\n",
       "      <td>0.001154</td>\n",
       "      <td>0.007730</td>\n",
       "      <td>0.013579</td>\n",
       "      <td>0.737025</td>\n",
       "    </tr>\n",
       "    <tr>\n",
       "      <th>807</th>\n",
       "      <td>4.920482e-06</td>\n",
       "      <td>0.000162</td>\n",
       "      <td>0.003404</td>\n",
       "      <td>0.010307</td>\n",
       "      <td>0.001483</td>\n",
       "      <td>0.347389</td>\n",
       "    </tr>\n",
       "  </tbody>\n",
       "</table>\n",
       "<p>808 rows × 6 columns</p>\n",
       "</div>"
      ],
      "text/plain": [
       "         ARRIENDO  SERV_INT    TRANSP  TOT_PERSO       CTO     VENTA\n",
       "0    8.860651e-03  0.000189  0.000803   0.002342  0.006278  0.578937\n",
       "1    7.954228e-04  0.000421  0.000015   0.002577  0.000545  0.313346\n",
       "2    8.860651e-03  0.000004  0.000001   0.000000  0.000490  0.684215\n",
       "3    1.312818e-06  0.000520  0.000211   0.003279  0.000887  0.707881\n",
       "4    2.067429e-08  0.002335  0.000031   0.011712  0.026781  0.762080\n",
       "..            ...       ...       ...        ...       ...       ...\n",
       "803  2.002409e-04  0.000009  0.000547   0.004919  0.001568  0.643329\n",
       "804  1.188772e-06  0.000965  0.000279   0.001640  0.000040  0.701141\n",
       "805  3.214853e-06  0.000033  0.000233   0.002577  0.003258  0.778979\n",
       "806  8.434182e-04  0.000088  0.001154   0.007730  0.013579  0.737025\n",
       "807  4.920482e-06  0.000162  0.003404   0.010307  0.001483  0.347389\n",
       "\n",
       "[808 rows x 6 columns]"
      ]
     },
     "execution_count": 4,
     "metadata": {},
     "output_type": "execute_result"
    }
   ],
   "source": [
    "dta_2018.drop(['TOTAL_REM','INV_PRO','SERV_EXT'], axis=1, inplace=True)\n",
    "dta_2018"
   ]
  },
  {
   "cell_type": "code",
   "execution_count": 5,
   "metadata": {},
   "outputs": [
    {
     "name": "stdout",
     "output_type": "stream",
     "text": [
      "             0         1         2         3         4\n",
      "0     0.006629  0.005813  0.008565  0.001605  0.016319\n",
      "1     0.000261  0.000262  0.001022  0.001783  0.003807\n",
      "2     0.006629  0.005813  0.008565  0.001783  0.016319\n",
      "3     0.000104  0.000285  0.000121  0.001783  0.003423\n",
      "4     0.006629  0.005813  0.008565  0.001961  0.016319\n",
      "...        ...       ...       ...       ...       ...\n",
      "3625  0.000127  0.000866  0.000221  0.001783  0.000763\n",
      "3626  0.000010  0.000954  0.001325  0.002496  0.002143\n",
      "3627  0.000121  0.000537  0.008565  0.001783  0.002049\n",
      "3628  0.006629  0.004568  0.002951  0.026391  0.012081\n",
      "3629  0.000241  0.000285  0.000086  0.001605  0.000999\n",
      "\n",
      "[3630 rows x 5 columns]\n",
      "         VENTA\n",
      "0     0.420915\n",
      "1     0.455799\n",
      "2     0.284335\n",
      "3     0.447846\n",
      "4     0.407667\n",
      "...        ...\n",
      "3625  0.322389\n",
      "3626  0.409969\n",
      "3627  0.395980\n",
      "3628  0.584510\n",
      "3629  0.326728\n",
      "\n",
      "[3630 rows x 1 columns]\n"
     ]
    }
   ],
   "source": [
    "X = pd.DataFrame(dta.iloc[:,0:5].values)\n",
    "print(X)\n",
    "X = sm.add_constant(X)\n",
    "y = dta.iloc[:,[5]]\n",
    "print(y)"
   ]
  },
  {
   "cell_type": "code",
   "execution_count": 6,
   "metadata": {},
   "outputs": [
    {
     "name": "stdout",
     "output_type": "stream",
     "text": [
      "                0         1         2         3         4\n",
      "0    8.860651e-03  0.000189  0.000803  0.002342  0.006278\n",
      "1    7.954228e-04  0.000421  0.000015  0.002577  0.000545\n",
      "2    8.860651e-03  0.000004  0.000001  0.000000  0.000490\n",
      "3    1.312818e-06  0.000520  0.000211  0.003279  0.000887\n",
      "4    2.067429e-08  0.002335  0.000031  0.011712  0.026781\n",
      "..            ...       ...       ...       ...       ...\n",
      "803  2.002409e-04  0.000009  0.000547  0.004919  0.001568\n",
      "804  1.188772e-06  0.000965  0.000279  0.001640  0.000040\n",
      "805  3.214853e-06  0.000033  0.000233  0.002577  0.003258\n",
      "806  8.434182e-04  0.000088  0.001154  0.007730  0.013579\n",
      "807  4.920482e-06  0.000162  0.003404  0.010307  0.001483\n",
      "\n",
      "[808 rows x 5 columns]\n",
      "        VENTA\n",
      "0    0.578937\n",
      "1    0.313346\n",
      "2    0.684215\n",
      "3    0.707881\n",
      "4    0.762080\n",
      "..        ...\n",
      "803  0.643329\n",
      "804  0.701141\n",
      "805  0.778979\n",
      "806  0.737025\n",
      "807  0.347389\n",
      "\n",
      "[808 rows x 1 columns]\n"
     ]
    }
   ],
   "source": [
    "XX = pd.DataFrame(dta_2018.iloc[:,0:5].values)\n",
    "print(XX)\n",
    "XX = sm.add_constant(XX)\n",
    "yy = dta_2018.iloc[:,[5]]\n",
    "print(yy)"
   ]
  },
  {
   "cell_type": "markdown",
   "metadata": {},
   "source": [
    "### Modelamiento por StatsModels (OLS Regression)"
   ]
  },
  {
   "cell_type": "code",
   "execution_count": 7,
   "metadata": {},
   "outputs": [
    {
     "name": "stdout",
     "output_type": "stream",
     "text": [
      "                            OLS Regression Results                            \n",
      "==============================================================================\n",
      "Dep. Variable:                  VENTA   R-squared:                       0.449\n",
      "Model:                            OLS   Adj. R-squared:                  0.449\n",
      "Method:                 Least Squares   F-statistic:                     591.6\n",
      "Date:                Sun, 10 Jan 2021   Prob (F-statistic):               0.00\n",
      "Time:                        14:34:08   Log-Likelihood:                 3806.6\n",
      "No. Observations:                3630   AIC:                            -7601.\n",
      "Df Residuals:                    3624   BIC:                            -7564.\n",
      "Df Model:                           5                                         \n",
      "Covariance Type:            nonrobust                                         \n",
      "==============================================================================\n",
      "                 coef    std err          t      P>|t|      [0.025      0.975]\n",
      "------------------------------------------------------------------------------\n",
      "const          0.4663      0.002    278.218      0.000       0.463       0.470\n",
      "0             -2.5662      0.282     -9.093      0.000      -3.119      -2.013\n",
      "1             -0.1693      0.354     -0.478      0.632      -0.863       0.525\n",
      "2             -1.3831      0.238     -5.803      0.000      -1.850      -0.916\n",
      "3              3.2771      0.209     15.643      0.000       2.866       3.688\n",
      "4              1.4142      0.103     13.688      0.000       1.212       1.617\n",
      "==============================================================================\n",
      "Omnibus:                      526.939   Durbin-Watson:                   1.772\n",
      "Prob(Omnibus):                  0.000   Jarque-Bera (JB):             1034.362\n",
      "Skew:                          -0.896   Prob(JB):                    2.46e-225\n",
      "Kurtosis:                       4.905   Cond. No.                         282.\n",
      "==============================================================================\n",
      "\n",
      "Notes:\n",
      "[1] Standard Errors assume that the covariance matrix of the errors is correctly specified.\n",
      "Error:  0.084787918340191\n",
      "R2:  0.44940113650994296 \n",
      "\n",
      "Datos del predict\n",
      "Error:  0.1746325704256378\n",
      "R^2:  0.35240435734464703\n"
     ]
    }
   ],
   "source": [
    "mod_ols = sm.OLS(y, X)\n",
    "res_ols = mod_ols.fit()\n",
    "print(res_ols.summary())\n",
    "\n",
    "y_pred_o = res_ols.predict(X)\n",
    "error_o = np.sqrt(mean_squared_error(y, y_pred_o))\n",
    "print('Error: ', error_o)\n",
    "print('R2: ', res_ols.rsquared,\"\\n\")\n",
    "\n",
    "y_pred_o2 = res_ols.predict(XX)\n",
    "error_o2 = np.sqrt(mean_squared_error(yy, y_pred_o2))\n",
    "r2 = r2_score(yy,y_pred_o2)\n",
    "\n",
    "print(\"Datos del predict\")\n",
    "print('Error: ', error_o2)\n",
    "print('R^2: ',r2)"
   ]
  },
  {
   "cell_type": "code",
   "execution_count": 8,
   "metadata": {
    "scrolled": false
   },
   "outputs": [
    {
     "data": {
      "text/plain": [
       "<AxesSubplot:xlabel='VENTA'>"
      ]
     },
     "execution_count": 8,
     "metadata": {},
     "output_type": "execute_result"
    },
    {
     "data": {
      "image/png": "[encoded data removed]",
      "text/plain": [
       "<Figure size 432x288 with 1 Axes>"
      ]
     },
     "metadata": {
      "needs_background": "light"
     },
     "output_type": "display_data"
    }
   ],
   "source": [
    "sns.scatterplot(x=\"VENTA\", y=res_ols.predict(XX), data=dta_2018, palette=\"viridis\")"
   ]
  },
  {
   "cell_type": "markdown",
   "metadata": {},
   "source": [
    "### Modelamiento por Sklearn (LinearRegression)"
   ]
  },
  {
   "cell_type": "code",
   "execution_count": 9,
   "metadata": {},
   "outputs": [
    {
     "name": "stdout",
     "output_type": "stream",
     "text": [
      "El error es:  0.084787918340191\n",
      "El valor de r^2 es:  0.44940113650994296\n",
      "Los coeficientes son:  [[ 0.         -2.56617086 -0.16929412 -1.38306497  3.27714394  1.41416233]]\n"
     ]
    }
   ],
   "source": [
    "reg = LinearRegression()\n",
    "reg = reg.fit(X, y)\n",
    "\n",
    "y_pred = reg.predict(X)\n",
    "error = np.sqrt(mean_squared_error(y, y_pred))\n",
    "r2 = reg.score(X, y)\n",
    "\n",
    "print(\"El error es: \", error)\n",
    "print(\"El valor de r^2 es: \", r2)\n",
    "print(\"Los coeficientes son: \", reg.coef_)"
   ]
  },
  {
   "cell_type": "code",
   "execution_count": 10,
   "metadata": {},
   "outputs": [
    {
     "name": "stdout",
     "output_type": "stream",
     "text": [
      "El error es:  0.1746325704256378\n",
      "El valor de r^2 es:  0.35240435734464715\n"
     ]
    }
   ],
   "source": [
    "y_pred2 = reg.predict(XX)\n",
    "error2 = np.sqrt(mean_squared_error(yy, y_pred2))\n",
    "r22 = reg.score(XX, yy)\n",
    "print(\"El error es: \", error2)\n",
    "print(\"El valor de r^2 es: \", r22)"
   ]
  }
 ],
 "metadata": {
  "kernelspec": {
   "display_name": "Python 3",
   "language": "python",
   "name": "python3"
  },
  "language_info": {
   "codemirror_mode": {
    "name": "ipython",
    "version": 3
   },
   "file_extension": ".py",
   "mimetype": "text/x-python",
   "name": "python",
   "nbconvert_exporter": "python",
   "pygments_lexer": "ipython3",
   "version": "3.8.5"
  }
 },
 "nbformat": 4,
 "nbformat_minor": 4
}
